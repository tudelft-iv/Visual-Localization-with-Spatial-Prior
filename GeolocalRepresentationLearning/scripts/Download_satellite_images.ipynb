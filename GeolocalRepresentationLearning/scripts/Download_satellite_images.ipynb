{
 "cells": [
  {
   "cell_type": "code",
   "execution_count": null,
   "metadata": {},
   "outputs": [],
   "source": [
    "%load_ext autoreload\n",
    "%autoreload 2\n",
    "import os\n",
    "import numpy as np\n",
    "import csv\n",
    "import matplotlib.pyplot as plt\n",
    "import pyproj\n",
    "import requests\n",
    "from robotcar_dataset_sdk.python.image import load_image\n",
    "import imageio\n",
    "import cv2"
   ]
  },
  {
   "cell_type": "code",
   "execution_count": null,
   "metadata": {},
   "outputs": [],
   "source": [
    "# Load ground truth locations (rtk) for a particualr traversal\n",
    "date = '2015-08-12-15-04-18' # replace the date of the traversal here\n",
    "path_to_dataset = './' # put your path to the Oxford RobotCar dataset here\n",
    "path_to_sat = './' # path to store downloaded satellite images\n",
    "timestamp_rtk = []\n",
    "lat_rtk = []\n",
    "lon_rtk = []\n",
    "northing_rtk = []\n",
    "easting_rtk = []\n",
    "with open(path_to_dataset+'OxfordRobotCar/'+date+'/rtk.csv') as csv_file:\n",
    "    csv_reader = csv.reader(csv_file, delimiter=',')\n",
    "    line_count = 0\n",
    "    for row in csv_reader:\n",
    "        if line_count <= 1:\n",
    "            print(row)\n",
    "        if line_count > 0:\n",
    "            timestamp_rtk.append(int(row[0]))\n",
    "            lat_rtk.append(float(row[1]))\n",
    "            lon_rtk.append(float(row[2]))\n",
    "            northing_rtk.append(float(row[4]))\n",
    "            easting_rtk.append(float(row[5]))\n",
    "        line_count += 1    \n",
    "plt.figure()\n",
    "plt.plot(easting_rtk,northing_rtk)\n",
    "plt.title('Traversal route')\n",
    "plt.xlabel('Easting')\n",
    "plt.ylabel('Northing')\n",
    "plt.axis('equal')\n",
    "plt.show()"
   ]
  },
  {
   "cell_type": "code",
   "execution_count": null,
   "metadata": {},
   "outputs": [],
   "source": [
    "# Get timestamp for every image and sort the timestamp, we use the cen\n",
    "timestamp_image =[]\n",
    "for root, dirs, files in os.walk(path_to_dataset+'OxfordRobotCar/'+date+'/stereo/centre'):\n",
    "    for filename in files:\n",
    "        head, _ = filename.split('.')\n",
    "        timestamp_image.append(int(head))\n",
    "timestamp_image.sort()     \n"
   ]
  },
  {
   "cell_type": "code",
   "execution_count": null,
   "metadata": {},
   "outputs": [],
   "source": [
    "# Only keep the timestamp within the RTK recording period\n",
    "print('total timestamps', len(timestamp_image))\n",
    "timestamp_image = np.array(timestamp_image)\n",
    "timestamp_image = timestamp_image[timestamp_image>=min(timestamp_rtk)]\n",
    "timestamp_image = timestamp_image[timestamp_image<=max(timestamp_rtk)]\n",
    "\n",
    "print('remaining timestamps', len(timestamp_image))\n"
   ]
  },
  {
   "cell_type": "code",
   "execution_count": null,
   "metadata": {},
   "outputs": [],
   "source": [
    "# Get coordinates for images at each timestamp by looking up the nearst RTK recording\n",
    "# Note that for simplicity, we pick the nearest RTK recording, other ways of getting coordinates for images are possible \n",
    "easting = []\n",
    "northing = []\n",
    "for i in range(len(timestamp_image)):\n",
    "    index = timestamp_rtk.index(min(timestamp_rtk, key=lambda x:abs(x-timestamp_image[i])))\n",
    "    easting.append(easting_rtk[index])\n",
    "    northing.append(northing_rtk[index])"
   ]
  },
  {
   "cell_type": "code",
   "execution_count": null,
   "metadata": {},
   "outputs": [],
   "source": [
    "# Downsample images and randomly choose the first image\n",
    "interval = 5 # the minimal distance between each image is 5m \n",
    "starting_distance = np.random.uniform(0,interval) # To avoid the first image (from different traversals) always locates at the starting location \n",
    "\n",
    "counter = 0\n",
    "distance = 0\n",
    "while distance <= starting_distance:\n",
    "    counter += 1\n",
    "    distance = np.sqrt((easting[counter]-easting[0])**2 + (northing[counter]-northing[0])**2)\n",
    "\n",
    "# Store indexes of selected images\n",
    "reference_index = counter\n",
    "final_index_list = [reference_index]\n",
    "for i in range(reference_index, len(timestamp_image)):\n",
    "    distance = np.sqrt((easting[i]-easting[reference_index])**2 + (northing[i]-northing[reference_index])**2)\n",
    "    if distance >= interval:\n",
    "        reference_index = i\n",
    "        final_index_list.append(reference_index)\n",
    "\n",
    "# Store the coordinates and timestamp of selected images\n",
    "easting_final = []\n",
    "northing_final = []\n",
    "timestamp_final = []\n",
    "for i in final_index_list:\n",
    "    easting_final.append(easting[i])\n",
    "    northing_final.append(northing[i])\n",
    "    timestamp_final.append(timestamp_image[i])"
   ]
  },
  {
   "cell_type": "code",
   "execution_count": null,
   "metadata": {},
   "outputs": [],
   "source": [
    "# Projection from UTM (easting, northing) coordinates to lat, lon\n",
    "_projections = {}\n",
    "def zone(coordinates):\n",
    "    if 56 <= coordinates[1] < 64 and 3 <= coordinates[0] < 12:\n",
    "        return 32\n",
    "    if 72 <= coordinates[1] < 84 and 0 <= coordinates[0] < 42:\n",
    "        if coordinates[0] < 9:\n",
    "            return 31\n",
    "        elif coordinates[0] < 21:\n",
    "            return 33\n",
    "        elif coordinates[0] < 33:\n",
    "            return 35\n",
    "        return 37\n",
    "    return int((coordinates[0] + 180) / 6) + 1\n",
    "\n",
    "\n",
    "def letter(coordinates):\n",
    "    return 'CDEFGHJKLMNPQRSTUVWXX'[int((coordinates[1] + 80) / 8)]\n",
    "\n",
    "\n",
    "def project(coordinates):\n",
    "    z = zone(coordinates)\n",
    "    l = letter(coordinates)\n",
    "    if z not in _projections:\n",
    "        _projections[z] = pyproj.Proj(proj='utm', zone=z, ellps='WGS84')\n",
    "    x, y = _projections[z](coordinates[0], coordinates[1])\n",
    "    if y < 0:\n",
    "        y += 10000000\n",
    "    return z, l, x, y\n",
    "\n",
    "\n",
    "def unproject(z, l, x, y):\n",
    "    if z not in _projections:\n",
    "        _projections[z] = pyproj.Proj(proj='utm', zone=z, ellps='WGS84')\n",
    "    if l < 'N':\n",
    "        y -= 10000000\n",
    "    lng, lat = _projections[z](x, y, inverse=True)\n",
    "    return (lng, lat)\n",
    "\n",
    "lat = []\n",
    "lon = [] \n",
    "z = 30\n",
    "l = 'U'\n",
    "for i in range(len(timestamp_final)):\n",
    "    longitude, latitude = unproject(z, l, easting_final[i], northing_final[i])\n",
    "    lat.append(latitude) \n",
    "    lon.append(longitude)"
   ]
  },
  {
   "cell_type": "code",
   "execution_count": null,
   "metadata": {
    "scrolled": true
   },
   "outputs": [],
   "source": [
    "for i in range(len(timestamp_final)):\n",
    "    img_name = str(easting_final[i])+'_'+str(northing_final[i]) + '.png'\n",
    "    pic_url_zoom20 = 'https://maps.googleapis.com/maps/api/staticmap?center=' \\\n",
    "        + str(lat[i]) +','+ str(lon[i]) + \\\n",
    "        '&zoom=20&size=1200x1200&maptype=satellite&key=' # insert your API key after the equal sign\n",
    "    \n",
    "    with open(path_to_sat+date+'/satellite_raw/'+ img_name, 'wb') as handle:\n",
    "        response = requests.get(pic_url_zoom20, stream=True)\n",
    "        if not response.ok:\n",
    "            print(response)\n",
    "        for block in response.iter_content(1024):\n",
    "            if not block:\n",
    "                break\n",
    "            handle.write(block)"
   ]
  },
  {
   "cell_type": "code",
   "execution_count": null,
   "metadata": {
    "scrolled": true
   },
   "outputs": [],
   "source": [
    "# Crop the boundary of the ground image\n",
    "for i in range(len(timestamp_final)):\n",
    "    image_filename = path_to_dataset+'OxfordRobotCar/'+date+'/stereo/centre/'+str(timestamp_final[i])+'.png'\n",
    "    img = load_image(image_filename)\n",
    "    \n",
    "    img_crop = img[0:800,40:1240,:]\n",
    "    img_name = str(easting_final[i])+'_'+str(northing_final[i]) + '.png'\n",
    "    imageio.imwrite(path_to_sat+date+'/ground/'+img_name, img_crop)\n"
   ]
  },
  {
   "cell_type": "code",
   "execution_count": null,
   "metadata": {},
   "outputs": [],
   "source": [
    "# Crop the boundary of the satellite image to remove the watermark \n",
    "satellite_image =[]\n",
    "for root, dirs, files in os.walk(path_to_sat+date+'/satellite_raw/'):\n",
    "    for filename in files:\n",
    "        head, _ = filename.split('.pn')\n",
    "        satellite_image.append((head))\n",
    "print('number of satellite images: ', len(satellite_image))\n",
    "\n",
    "for i in range(len(satellite_image)):\n",
    "    sat = cv2.imread(path_to_sat+date+'/satellite_raw/'+str(satellite_image[i]+'.png'))\n",
    "    sat_crop = sat[20:620,20:620,:]\n",
    "    cv2.imwrite(path_to_sat+date+'/satellite/'+str(satellite_image[i])+'.png', sat_crop)"
   ]
  },
  {
   "cell_type": "code",
   "execution_count": null,
   "metadata": {},
   "outputs": [],
   "source": []
  }
 ],
 "metadata": {
  "kernelspec": {
   "display_name": "Python 3 (ipykernel)",
   "language": "python",
   "name": "python3"
  },
  "language_info": {
   "codemirror_mode": {
    "name": "ipython",
    "version": 3
   },
   "file_extension": ".py",
   "mimetype": "text/x-python",
   "name": "python",
   "nbconvert_exporter": "python",
   "pygments_lexer": "ipython3",
   "version": "3.7.11"
  }
 },
 "nbformat": 4,
 "nbformat_minor": 4
}
